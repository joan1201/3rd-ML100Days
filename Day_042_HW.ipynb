{
 "cells": [
  {
   "cell_type": "markdown",
   "metadata": {},
   "source": [
    "## [作業重點]\n",
    "目前你應該已經要很清楚資料集中，資料的型態是什麼樣子囉！包含特徵 (features) 與標籤 (labels)。因此要記得未來不管什麼專案，必須要把資料清理成相同的格式，才能送進模型訓練。\n",
    "今天的作業開始踏入決策樹這個非常重要的模型，請務必確保你理解模型中每個超參數的意思，並試著調整看看，對最終預測結果的影響為何"
   ]
  },
  {
   "cell_type": "markdown",
   "metadata": {},
   "source": [
    "## 作業\n",
    "\n",
    "1. 試著調整 DecisionTreeClassifier(...) 中的參數，並觀察是否會改變結果？\n",
    "2. 改用其他資料集 (boston, wine)，並與回歸模型的結果進行比較"
   ]
  },
  {
   "cell_type": "code",
   "execution_count": 3,
   "metadata": {},
   "outputs": [],
   "source": [
    "from sklearn import datasets, metrics\n",
    "\n",
    "# 如果是分類問題，請使用 DecisionTreeClassifier，若為回歸問題，請使用 DecisionTreeRegressor\n",
    "from sklearn.tree import DecisionTreeClassifier, DecisionTreeRegressor\n",
    "from sklearn.model_selection import train_test_split"
   ]
  },
  {
   "cell_type": "code",
   "execution_count": 4,
   "metadata": {},
   "outputs": [
    {
     "name": "stdout",
     "output_type": "stream",
     "text": [
      "Acuuracy:  0.9736842105263158\n"
     ]
    }
   ],
   "source": [
    "\n",
    "#作業1\n",
    "\n",
    "# 讀取鳶尾花資料集\n",
    "iris = datasets.load_iris()\n",
    "\n",
    "# 切分訓練集/測試集\n",
    "x_train, x_test, y_train, y_test = train_test_split(iris.data, iris.target, test_size=0.25, random_state=4)\n",
    "\n",
    "# 建立模型\n",
    "clf2 = DecisionTreeClassifier(criterion='gini',min_samples_split=2,min_samples_leaf=2)\n",
    "\n",
    "# 訓練模型\n",
    "clf2.fit(x_train, y_train)\n",
    "\n",
    "# 預測測試集\n",
    "y_pred = clf2.predict(x_test)\n",
    "\n",
    "acc = metrics.accuracy_score(y_test, y_pred)\n",
    "print(\"Acuuracy: \", acc)"
   ]
  },
  {
   "cell_type": "code",
   "execution_count": 5,
   "metadata": {},
   "outputs": [
    {
     "name": "stdout",
     "output_type": "stream",
     "text": [
      "['sepal length (cm)', 'sepal width (cm)', 'petal length (cm)', 'petal width (cm)']\n"
     ]
    }
   ],
   "source": [
    "print(iris.feature_names)"
   ]
  },
  {
   "cell_type": "code",
   "execution_count": 6,
   "metadata": {},
   "outputs": [
    {
     "name": "stdout",
     "output_type": "stream",
     "text": [
      "Feature importance:  [0.02047404 0.         0.54685325 0.43267271]\n"
     ]
    }
   ],
   "source": [
    "print(\"Feature importance: \", clf2.feature_importances_)"
   ]
  },
  {
   "cell_type": "code",
   "execution_count": 7,
   "metadata": {},
   "outputs": [],
   "source": [
    "\n",
    "#作業2\n",
    "\n",
    "boston = datasets.load_boston()\n",
    "\n",
    "# 切分訓練集/測試集\n",
    "x_train, x_test, y_train, y_test = train_test_split(boston.data, boston.target, test_size=0.25, random_state=4)\n",
    "\n",
    "# 建立模型\n",
    "clf3 = DecisionTreeRegressor()\n",
    "\n",
    "# 訓練模型\n",
    "clf3.fit(x_train, y_train)\n",
    "\n",
    "# 預測測試集\n",
    "y_pred = clf3.predict(x_test)\n",
    "\n"
   ]
  },
  {
   "cell_type": "code",
   "execution_count": 13,
   "metadata": {},
   "outputs": [
    {
     "data": {
      "text/plain": [
       "array([14. , 22. , 20.9, 22.5, 44.8, 23.1, 37.3, 23.2, 17.2, 17.8, 23.9,\n",
       "       16.5, 20.6, 23.3, 23.1, 13.4, 18.7, 12.8, 11.9, 14.8, 13.1, 17.8,\n",
       "       20.5, 20.1, 19.7, 20.1, 13.4, 15.2, 22.6, 21.5,  9.5, 22.9, 36.5,\n",
       "       20.3, 13.1,  9.5, 33.2, 46. , 25. , 22.9, 46. , 24.8, 12.7, 29.4,\n",
       "       27.5, 20.9, 50. , 19.4, 22.7, 22.2, 30.8, 23.8, 11.3, 27.1, 15.7,\n",
       "       19.3, 27.5, 32.5, 14.5, 33.1, 16.2, 21.4, 37. , 19.6, 43.1, 29.4,\n",
       "       21. ,  8.4, 23.2, 23.2, 22. , 18.7, 22. , 30.1, 21.5, 36.2, 14.5,\n",
       "       21. , 17.7, 20.4, 22.5, 15.6, 26.6, 18.2, 24.7, 20.6, 33.2, 24.5,\n",
       "       22.5, 50. , 29. , 50. , 19.4, 44.8, 24.4, 19.4, 18.9, 27.5, 14.6,\n",
       "       19. ,  8.3, 19.3, 34.9, 14.5, 23.3, 19.9, 37.3, 32.9, 50. , 21.6,\n",
       "       20.1, 19.6, 12.7, 37. , 36.2, 29.6, 50. , 13.1,  7. , 19.6, 21.2,\n",
       "       12.3, 22.6, 22.6, 18.7, 24. , 50. ])"
      ]
     },
     "execution_count": 13,
     "metadata": {},
     "output_type": "execute_result"
    }
   ],
   "source": [
    "y_pred"
   ]
  }
 ],
 "metadata": {
  "kernelspec": {
   "display_name": "Python 3",
   "language": "python",
   "name": "python3"
  },
  "language_info": {
   "codemirror_mode": {
    "name": "ipython",
    "version": 3
   },
   "file_extension": ".py",
   "mimetype": "text/x-python",
   "name": "python",
   "nbconvert_exporter": "python",
   "pygments_lexer": "ipython3",
   "version": "3.7.4"
  }
 },
 "nbformat": 4,
 "nbformat_minor": 2
}
